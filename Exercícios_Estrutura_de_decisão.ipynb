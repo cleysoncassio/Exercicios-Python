{
  "nbformat": 4,
  "nbformat_minor": 0,
  "metadata": {
    "colab": {
      "name": "Exercícios-Estrutura_de_decisão.ipynb",
      "provenance": [],
      "collapsed_sections": [],
      "include_colab_link": true
    },
    "kernelspec": {
      "name": "python3",
      "display_name": "Python 3"
    },
    "language_info": {
      "name": "python"
    }
  },
  "cells": [
    {
      "cell_type": "markdown",
      "metadata": {
        "id": "view-in-github",
        "colab_type": "text"
      },
      "source": [
        "<a href=\"https://colab.research.google.com/github/cleysoncassio/Exercicios-Python/blob/master/Exerc%C3%ADcios_Estrutura_de_decis%C3%A3o.ipynb\" target=\"_parent\"><img src=\"https://colab.research.google.com/assets/colab-badge.svg\" alt=\"Open In Colab\"/></a>"
      ]
    },
    {
      "cell_type": "markdown",
      "metadata": {
        "id": "_D3DS6botZxd"
      },
      "source": [
        "GERADOR DE SENHAS"
      ]
    },
    {
      "cell_type": "code",
      "metadata": {
        "id": "ynp5Lwig_WAT"
      },
      "source": [
        "senha='2112'\n",
        "tentativa=input(\"Digite a senha:\")\n",
        "\n",
        "while (senha != tentativa):\n",
        "    print(\"Senha errada! Tente novamente!\")\n",
        "    tentativa=input(\"Digite a senha:\")\n",
        "\n",
        "print(\"Senha correta. Entrando no sistema...\")\n",
        "11"
      ],
      "execution_count": null,
      "outputs": []
    },
    {
      "cell_type": "markdown",
      "metadata": {
        "id": "i-ETH5NY291m"
      },
      "source": [
        "LISTA PYTHON BRASIL-https://wiki.python.org.br/EstruturaDeDecisao"
      ]
    },
    {
      "cell_type": "markdown",
      "metadata": {
        "id": "kIxl5XO130hR"
      },
      "source": [
        "1- Faça um Programa que peça dois números e imprima o maior deles."
      ]
    },
    {
      "cell_type": "code",
      "metadata": {
        "colab": {
          "base_uri": "https://localhost:8080/"
        },
        "id": "0iwQCZsk33xJ",
        "outputId": "6e73bfcc-c7ad-40aa-8dce-8c9f63162a2d"
      },
      "source": [
        "num_1 = input('digite um número')\n",
        "num_2 = input('digite outro número')\n",
        "if num_1 >= num_2:\n",
        "  print(num_1)\n",
        "if num_2 >= num_1:\n",
        "    print(num_2)\n"
      ],
      "execution_count": null,
      "outputs": [
        {
          "output_type": "stream",
          "text": [
            "digite um número2.4\n",
            "digite outro número.8\n",
            "2.4\n"
          ],
          "name": "stdout"
        }
      ]
    },
    {
      "cell_type": "markdown",
      "metadata": {
        "id": "3xN7kLK69SB6"
      },
      "source": [
        "2-Faça um Programa que peça um valor e mostre na tela se o valor é positivo ou negativo."
      ]
    },
    {
      "cell_type": "code",
      "metadata": {
        "id": "tGA3vZIT9X5u"
      },
      "source": [
        "num = int(input('digite um número'))\n",
        "if num > 0: \n",
        "  print('esse número é positivo')\n",
        "elif num < 0:\n",
        "    print('esse número é negativo')\n",
        "else:\n",
        "  print ('ah, seu número é zero :s')\n",
        "  \n"
      ],
      "execution_count": null,
      "outputs": []
    },
    {
      "cell_type": "markdown",
      "metadata": {
        "id": "HHsJ75DWLZHR"
      },
      "source": [
        "3- Faça um Programa que verifique se uma letra digitada é \"F\" ou \"M\". Conforme a letra escrever: F - Feminino, M - Masculino, Sexo Inválido."
      ]
    },
    {
      "cell_type": "code",
      "metadata": {
        "id": "J_qbga5qLiBM"
      },
      "source": [
        "letra = input('digite a primeira letra do seu sexo')\n",
        "if letra =='M':\n",
        "  print('MASCULINO')\n",
        "elif letra == 'F':\n",
        "  print('FEMINO')\n",
        "else:\n",
        "  print('Seja Feliz')  "
      ],
      "execution_count": null,
      "outputs": []
    },
    {
      "cell_type": "markdown",
      "metadata": {
        "id": "9Ls8b-Au5_zQ"
      },
      "source": [
        "4-**Faça um Programa que verifique se uma letra digitada é vogal ou consoante.**"
      ]
    },
    {
      "cell_type": "code",
      "metadata": {
        "colab": {
          "base_uri": "https://localhost:8080/"
        },
        "id": "biiQqS1p_cj0",
        "outputId": "9434c8eb-5773-4093-dd0e-6e6e6322593b"
      },
      "source": [
        "letra= input('digite uma letra')\n",
        "if letra in 'a,e,i,o,u':\n",
        "  print('vogal')\n",
        "else:\n",
        "  print('não é vogal')"
      ],
      "execution_count": null,
      "outputs": [
        {
          "output_type": "stream",
          "text": [
            "digite uma letrab\n",
            "não é vogal\n"
          ],
          "name": "stdout"
        }
      ]
    },
    {
      "cell_type": "markdown",
      "metadata": {
        "id": "8jgVEsNTPy35"
      },
      "source": [
        "5- **Faça um programa para a leitura de duas notas parciais de um aluno. **\n",
        "\n",
        "O programa deve calcular a média alcançada por aluno e apresentar:\n",
        "\n",
        "1.   A mensagem \"Aprovado\", se a média alcançada for maior ou igual a sete;\n",
        "2.   A mensagem \"Reprovado\", se a média for menor do que sete;\n",
        "3.   A mensagem \"Aprovado com Distinção\", se a média for igual a dez."
      ]
    },
    {
      "cell_type": "code",
      "metadata": {
        "id": "dP6n-9tOWdVt"
      },
      "source": [
        "nota_1 = float(input('digite sua nota'))\n",
        "nota_2 = float(input('digite sua próxima nota'))\n",
        "media = nota_1 + nota_2 /2\n",
        "\n",
        "if media >= 7.0:\n",
        "  print('Parabéns,você foi aprovado')\n",
        "if media < 7.0:\n",
        "    print('Que pena! :( 5 Não foi dessa vez')\n",
        "if media >= 10:\n",
        "  print('Aprovado com Distinção')"
      ],
      "execution_count": null,
      "outputs": []
    },
    {
      "cell_type": "markdown",
      "metadata": {
        "id": "dGS9MEABYD6V"
      },
      "source": [
        "6-  **Faça um Programa que leia três números e mostre o maior deles.**"
      ]
    },
    {
      "cell_type": "code",
      "metadata": {
        "id": "xytDXbYpYIMP"
      },
      "source": [
        "num_1= input('digite um número')\n",
        "num_2= input('digite um número')\n",
        "num_3= input('digite um número')\n",
        "if num_1 > num_2 and num_1 > num_3:\n",
        "  print(f'o nýmero é {num_1}')\n",
        "if num_2 > num_1 and num_2 > num_3:\n",
        "  print(f'o número é {num_2}') \n",
        "if num_3 > num_1 and num_3 > num_2:\n",
        "  print(f'o número é {num_3}')"
      ],
      "execution_count": null,
      "outputs": []
    },
    {
      "cell_type": "markdown",
      "metadata": {
        "id": "7Mezg8PqGwd6"
      },
      "source": [
        "7- **Faça um Programa que leia três números e mostre o maior e o menor deles.**"
      ]
    },
    {
      "cell_type": "code",
      "metadata": {
        "id": "QVlJJ96rG9iE"
      },
      "source": [
        "num_1= input('digite um número')\n",
        "num_2= input('digite um número')\n",
        "num_3= input('digite um número')\n",
        "if num_1 > num_2 and num_2 > num_3:\n",
        "  print(f'o MAIOR número é : {num_1}')\n",
        "if num_2 > num_1 and num_1 > num_3:\n",
        "  print(f'o MAIOR número é : {num_2}')\n",
        "if num_3 > num_2 and num_2 > num_1:\n",
        "  print(f'o MAIOR número é : {num_3}')\n",
        "if num_1 < num_2 and num_2 < num_3:\n",
        "  print(f'o MENOR número é : {num_1}')\n",
        "if num_2 < num_1 and num_1 < num_3:\n",
        "  print(f'o MENOR número é : {num_2}')\n",
        "if num_3 < num_2 and num_2 < num_1:\n",
        "  print(f'o MENOR número é ; {num_3}')\n"
      ],
      "execution_count": null,
      "outputs": []
    },
    {
      "cell_type": "markdown",
      "metadata": {
        "id": "XfwCmjdvHS1f"
      },
      "source": [
        "8- Faça um programa que pergunte o preço de três produtos e informe qual produto você deve comprar, sabendo que a decisão é sempre pelo mais barato."
      ]
    },
    {
      "cell_type": "code",
      "metadata": {
        "colab": {
          "base_uri": "https://localhost:8080/"
        },
        "id": "_lWbflEQHXxV",
        "outputId": "f8e28f78-3952-400f-d969-939da2664bd4"
      },
      "source": [
        "p1 = float(input('produto 1'))\n",
        "p2 = float(input('produto 2'))\n",
        "p3 = float(input('produto 3'))\n",
        "if p1 < p2 and p2 < p3:\n",
        "  print(f'o MENOR preço é o  produto 1  no valor de R$ :{p1}')\n",
        "if p2 < p1 and p1 < p3:\n",
        "  print(f'o MENOR preço é o  produto 2  no valor de R$ :{p2}')\n",
        "if p3 < p2 and p2 < p1:\n",
        "  print(f'o MENOR preço é o  produto 3  no valor de R$ : {p3}')\n",
        "elif p1 == p2 and p1 and p2 < p3:\n",
        "  print (f'O produto 1 no valor de R$ {p1} e 2 são os mais baratos!!')\n",
        "elif p1 == p3 and p2 and p3 < p2:\n",
        "  print (f'O produto 2 no valor de R$ {p2} e 3 são os mais baratos!!')\n",
        "elif p1 == p3 and p2 and p3 < p1:\n",
        "  print (f'O produto 3 no valor de R$ {p3} e 2 são os mais baratos!!')\n",
        "else:\n",
        "  print('compra qualquer um! É tudo o mesmo preço')"
      ],
      "execution_count": 70,
      "outputs": [
        {
          "output_type": "stream",
          "name": "stdout",
          "text": [
            "produto 12\n",
            "produto 25\n",
            "produto 38\n",
            "o MENOR preço é o  produto 1  no valor de R$ :2.0\n",
            "compra qualquer um! É tudo o mesmo preço\n"
          ]
        }
      ]
    },
    {
      "cell_type": "markdown",
      "metadata": {
        "id": "ZW2e0X4MPxCY"
      },
      "source": [
        "9- **Faça um Programa que leia três números e mostre-os em ordem decrescente.**"
      ]
    },
    {
      "cell_type": "code",
      "metadata": {
        "id": "nlTxzrcrkXVV"
      },
      "source": [
        "primeiro = input('digite um número')\n",
        "segundo = input('digite um número')\n",
        "terceiro = input('digite um número')\n",
        "\n",
        "if (terceiro > segundo):\n",
        "    aux = terceiro\n",
        "    terceiro = segundo\n",
        "    segundo = aux\n",
        "\n",
        "if (segundo > primeiro):\n",
        "    aux = segundo\n",
        "    segundo = primeiro\n",
        "    primeiro = aux\n",
        "\n",
        "if (terceiro > segundo):\n",
        "    aux = terceiro\n",
        "    terceiro = segundo\n",
        "    segundo = aux\n",
        "\n",
        "print(primeiro,'-',segundo,'-',terceiro)"
      ],
      "execution_count": null,
      "outputs": []
    },
    {
      "cell_type": "markdown",
      "metadata": {
        "id": "K6HHdk7jzetR"
      },
      "source": [
        "10-Faça um Programa que pergunte em que turno você estuda. Peça para digitar M-matutino ou V-Vespertino ou N- Noturno. Imprima a mensagem \"Bom Dia!\", \"Boa Tarde!\" ou \"Boa Noite!\" ou \"Valor Inválido!\", conforme o caso."
      ]
    },
    {
      "cell_type": "code",
      "metadata": {
        "colab": {
          "base_uri": "https://localhost:8080/"
        },
        "id": "Ozx0S9rAm3ml",
        "outputId": "1e336b61-0350-4016-addb-bf417ceb6403"
      },
      "source": [
        "t1 = input('digite seu turno de estudos')\n",
        "\n",
        "if t1 == 'M':\n",
        "  print('Olá, BOM DIA!')\n",
        "\n",
        "elif t1== 'V':\n",
        "  print('Olá, BOA TARDE!')\n",
        "\n",
        "elif t1== 'N':\n",
        "  print('Olá, BOA NOITE!')\n",
        "\n",
        "else:\n",
        "  print('valor inválido')"
      ],
      "execution_count": 64,
      "outputs": [
        {
          "output_type": "stream",
          "name": "stdout",
          "text": [
            "digite seu turno de estudosN\n",
            "Olá, BOA NOITE!\n"
          ]
        }
      ]
    },
    {
      "cell_type": "markdown",
      "metadata": {
        "id": "GUONeARRnn-9"
      },
      "source": [
        "11- **As Organizações Tabajara resolveram dar um aumento de salário aos seus colaboradores e lhe contraram para desenvolver o programa que calculará os reajustes.**\n",
        "\n",
        "Faça um programa que recebe o salário de um colaborador e o reajuste segundo o seguinte critério, baseado no salário atual:\n",
        "\n",
        "salários até R$ 280,00 (incluindo) : aumento de 20%\n",
        "\n",
        "salários entre R$ 280,00 e R$ 700,00 : aumento de 15%\n",
        "\n",
        "salários entre R$ 700,00 e R$ 1500,00 : aumento de 10%\n",
        "\n",
        "o percentual de aumento aplicado;\n",
        "\n",
        "o valor do aumento;\n",
        "\n",
        "o novo salário, após o aumento.\n",
        "\n"
      ]
    },
    {
      "cell_type": "code",
      "metadata": {
        "colab": {
          "base_uri": "https://localhost:8080/"
        },
        "id": "LmeL-Oiin7Ox",
        "outputId": "6daf262a-4e95-4861-db69-cc544a6d841f"
      },
      "source": [
        "salario = float(input('O meu salário é R$ '))\n",
        "desc_1 = salario / 100 * 20 + salario\n",
        "desc_2 = salario / 100 * 15 + salario\n",
        "desc_3 = salario / 100 * 10 + salario\n",
        "\n",
        "if salario <= 280.00:\n",
        "  print(f'o salário atualizado é de: R$ {desc_1}')\n",
        "\n",
        "elif salario >= 280.00 <= 700.00:\n",
        "  print(f'o salário atualizado é de: R$ {desc_2}')\n",
        "\n",
        "elif salario >= 700.00 <= 1500.00:\n",
        "  print(f'o salário atualizado é de: R$ {desc_3}')\n"
      ],
      "execution_count": null,
      "outputs": [
        {
          "output_type": "stream",
          "text": [
            "O meu salário é R$ 780\n",
            "o salário atualizado é de: R$ 897.0\n"
          ],
          "name": "stdout"
        }
      ]
    },
    {
      "cell_type": "markdown",
      "metadata": {
        "id": "_cOlu5AHxmmK"
      },
      "source": [
        "12- Faça um programa para o cálculo de uma folha de pagamento, sabendo que os descontos são do Imposto de Renda, que depende do salário bruto (conforme tabela abaixo) e 3% para o Sindicato e que o FGTS corresponde a 11% do Salário Bruto, mas não é descontado (é a empresa que deposita).\n",
        "\n",
        "O Salário Líquido corresponde ao Salário Bruto menos os descontos. O programa deverá pedir ao usuário o valor da sua hora e a quantidade de horas trabalhadas no mês.\n",
        "\n",
        "\n",
        "Desconto do IR:\n",
        "\n",
        "Salário Bruto até 900 (inclusive) - isento\n",
        "\n",
        "Salário Bruto até 1500 (inclusive) - desconto de 5%\n",
        "\n",
        "Salário Bruto até 2500 (inclusive) - desconto de 10%\n",
        "\n",
        "Salário Bruto acima de 2500 - desconto de 20% Imprima na tela as \n",
        "informações, dispostas conforme o exemplo abaixo. No exemplo o valor \n",
        "da hora é 5 e a quantidade de hora é 220.\n",
        "\n",
        "        Salário Bruto: (5 * 220)        : R$ 1100,00\n",
        "        (-) IR (5%)                     : R$   55,00  \n",
        "        (-) INSS ( 10%)                 : R$  110,00\n",
        "        FGTS (11%)                      : R$  121,00\n",
        "        Total de descontos              : R$  165,00\n",
        "        Salário Liquido                 : R$  935,00"
      ]
    },
    {
      "cell_type": "markdown",
      "metadata": {
        "id": "N7FfEiAzuMIR"
      },
      "source": [
        "**TESTE**"
      ]
    },
    {
      "cell_type": "code",
      "metadata": {
        "id": "8may1YsVGbNO",
        "colab": {
          "base_uri": "https://localhost:8080/"
        },
        "outputId": "631da3de-2cf0-4578-af0b-22275878a81c"
      },
      "source": [
        "horas= float(input('Quantas horas por mês você trabalha?'))\n",
        "preço = float(input('Qual o valor da sua hora? '))\n",
        "\n",
        "sl = horas * preço\n",
        "bruto = horas * preço\n",
        "\n",
        "desc_5  = bruto * 5/100\n",
        "desc_10 = bruto * 10/100\n",
        "desc_20 = bruto * 20/100\n",
        "sind = bruto * 3/100\n",
        "inss = bruto * 10/100\n",
        "fgts = bruto * 11/100\n",
        "desc = bruto - sl + sind\n",
        "ir = bruto - sl\n",
        "\n",
        "if sl <= 900:\n",
        "  sl = bruto\n",
        "\n",
        "elif sl > 900 and bruto <= 1500:\n",
        "  sl= sl - desc_5\n",
        "\n",
        "elif sl > 1500 and bruto <= 2500:\n",
        "  sl= sl - desc_10\n",
        "\n",
        "else:\n",
        "  sl > 2500\n",
        "  sl = bruto - desc_20\n",
        "\n",
        "  print(f'salário bruto:       R$ {bruto:,.2f}')\n",
        "  print(f'(-) IR:              R$ {sl - bruto:,.2f}')\n",
        "  print(f'Desconto Sindicato:  R$ {bruto - sind - bruto:,.2f}')\n",
        "  print(f'(-) FGTS (11%):      R$ {bruto - fgts - bruto:,.2f}')\n",
        "  print(f'Total de descontos : R$ {bruto - sl + sind :,.2f}')\n",
        "  print(f'Salário Liquido :    R$ {bruto - sind + sl - bruto:,.2f}')"
      ],
      "execution_count": 60,
      "outputs": [
        {
          "output_type": "stream",
          "name": "stdout",
          "text": [
            "Quantas horas por mês você trabalha?2000\n",
            "Qual o valor da sua hora? 2\n",
            "salário bruto:       R$ 4,000.00\n",
            "(-) IR:              R$ -800.00\n",
            "Desconto Sindicato:  R$ -120.00\n",
            "(-) FGTS (11%):      R$ -440.00\n",
            "Total de descontos : R$ 920.00\n",
            "Salário Liquido :    R$ 3,080.00\n"
          ]
        }
      ]
    }
  ]
}