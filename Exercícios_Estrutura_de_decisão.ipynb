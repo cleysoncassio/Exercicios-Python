{
  "nbformat": 4,
  "nbformat_minor": 0,
  "metadata": {
    "colab": {
      "name": "Exercícios-Estrutura_de_decisão.ipynb",
      "provenance": [],
      "collapsed_sections": [],
      "include_colab_link": true
    },
    "kernelspec": {
      "name": "python3",
      "display_name": "Python 3"
    },
    "language_info": {
      "name": "python"
    }
  },
  "cells": [
    {
      "cell_type": "markdown",
      "metadata": {
        "id": "view-in-github",
        "colab_type": "text"
      },
      "source": [
        "<a href=\"https://colab.research.google.com/github/cleysoncassio/Exercicios-Python/blob/master/Exerc%C3%ADcios_Estrutura_de_decis%C3%A3o.ipynb\" target=\"_parent\"><img src=\"https://colab.research.google.com/assets/colab-badge.svg\" alt=\"Open In Colab\"/></a>"
      ]
    },
    {
      "cell_type": "markdown",
      "metadata": {
        "id": "_D3DS6botZxd"
      },
      "source": [
        "\n",
        "[Exercício Python-Estrutura Sequencial](https://wiki.python.org.br/EstruturaDeDecisao)"
      ]
    },
    {
      "cell_type": "markdown",
      "metadata": {
        "id": "kIxl5XO130hR"
      },
      "source": [
        "1- Faça um Programa que peça dois números e imprima o maior deles."
      ]
    },
    {
      "cell_type": "code",
      "metadata": {
        "id": "0iwQCZsk33xJ"
      },
      "source": [
        "num_1 = input('digite um número')\n",
        "num_2 = input('digite outro número')\n",
        "if num_1 >= num_2:\n",
        "  print(num_1)\n",
        "if num_2 >= num_1:\n",
        "    print(num_2)\n"
      ],
      "execution_count": null,
      "outputs": []
    },
    {
      "cell_type": "markdown",
      "metadata": {
        "id": "3xN7kLK69SB6"
      },
      "source": [
        "2-Faça um Programa que peça um valor e mostre na tela se o valor é positivo ou negativo."
      ]
    },
    {
      "cell_type": "code",
      "metadata": {
        "id": "tGA3vZIT9X5u"
      },
      "source": [
        "num = int(input('digite um número'))\n",
        "if num > 0: \n",
        "  print('esse número é positivo')\n",
        "elif num < 0:\n",
        "    print('esse número é negativo')\n",
        "else:\n",
        "  print ('ah, seu número é zero :s')\n",
        "  \n"
      ],
      "execution_count": null,
      "outputs": []
    },
    {
      "cell_type": "markdown",
      "metadata": {
        "id": "HHsJ75DWLZHR"
      },
      "source": [
        "3- Faça um Programa que verifique se uma letra digitada é \"F\" ou \"M\". Conforme a letra escrever: F - Feminino, M - Masculino, Sexo Inválido."
      ]
    },
    {
      "cell_type": "code",
      "metadata": {
        "id": "J_qbga5qLiBM"
      },
      "source": [
        "letra = input('digite a primeira letra do seu sexo')\n",
        "if letra =='M':\n",
        "  print('MASCULINO')\n",
        "elif letra == 'F':\n",
        "  print('FEMINO')\n",
        "else:\n",
        "  print('Seja Feliz')  "
      ],
      "execution_count": null,
      "outputs": []
    },
    {
      "cell_type": "markdown",
      "metadata": {
        "id": "9Ls8b-Au5_zQ"
      },
      "source": [
        "4-**Faça um Programa que verifique se uma letra digitada é vogal ou consoante.**"
      ]
    },
    {
      "cell_type": "code",
      "metadata": {
        "colab": {
          "base_uri": "https://localhost:8080/"
        },
        "id": "biiQqS1p_cj0",
        "outputId": "9434c8eb-5773-4093-dd0e-6e6e6322593b"
      },
      "source": [
        "letra= input('digite uma letra')\n",
        "if letra in 'a,e,i,o,u':\n",
        "  print('vogal')\n",
        "else:\n",
        "  print('não é vogal')"
      ],
      "execution_count": null,
      "outputs": [
        {
          "output_type": "stream",
          "text": [
            "digite uma letrab\n",
            "não é vogal\n"
          ],
          "name": "stdout"
        }
      ]
    },
    {
      "cell_type": "markdown",
      "metadata": {
        "id": "8jgVEsNTPy35"
      },
      "source": [
        "5- **Faça um programa para a leitura de duas notas parciais de um aluno. **\n",
        "\n",
        "O programa deve calcular a média alcançada por aluno e apresentar:\n",
        "\n",
        "1.   A mensagem \"Aprovado\", se a média alcançada for maior ou igual a sete;\n",
        "2.   A mensagem \"Reprovado\", se a média for menor do que sete;\n",
        "3.   A mensagem \"Aprovado com Distinção\", se a média for igual a dez."
      ]
    },
    {
      "cell_type": "code",
      "metadata": {
        "id": "dP6n-9tOWdVt"
      },
      "source": [
        "nota_1 = float(input('digite sua nota'))\n",
        "nota_2 = float(input('digite sua próxima nota'))\n",
        "media = nota_1 + nota_2 /2\n",
        "\n",
        "if media >= 7.0:\n",
        "  print('Parabéns,você foi aprovado')\n",
        "if media < 7.0:\n",
        "    print('Que pena! :( 5 Não foi dessa vez')\n",
        "if media >= 10:\n",
        "  print('Aprovado com Distinção')"
      ],
      "execution_count": null,
      "outputs": []
    },
    {
      "cell_type": "markdown",
      "metadata": {
        "id": "dGS9MEABYD6V"
      },
      "source": [
        "6-  **Faça um Programa que leia três números e mostre o maior deles.**"
      ]
    },
    {
      "cell_type": "code",
      "metadata": {
        "id": "xytDXbYpYIMP"
      },
      "source": [
        "num_1= input('digite um número')\n",
        "num_2= input('digite um número')\n",
        "num_3= input('digite um número')\n",
        "if num_1 > num_2 and num_1 > num_3:\n",
        "  print(f'o nýmero é {num_1}')\n",
        "if num_2 > num_1 and num_2 > num_3:\n",
        "  print(f'o número é {num_2}') \n",
        "if num_3 > num_1 and num_3 > num_2:\n",
        "  print(f'o número é {num_3}')"
      ],
      "execution_count": null,
      "outputs": []
    },
    {
      "cell_type": "markdown",
      "metadata": {
        "id": "7Mezg8PqGwd6"
      },
      "source": [
        "7- **Faça um Programa que leia três números e mostre o maior e o menor deles.**"
      ]
    },
    {
      "cell_type": "code",
      "metadata": {
        "id": "QVlJJ96rG9iE"
      },
      "source": [
        "num_1= input('digite um número')\n",
        "num_2= input('digite um número')\n",
        "num_3= input('digite um número')\n",
        "if num_1 > num_2 and num_2 > num_3:\n",
        "  print(f'o MAIOR número é : {num_1}')\n",
        "if num_2 > num_1 and num_1 > num_3:\n",
        "  print(f'o MAIOR número é : {num_2}')\n",
        "if num_3 > num_2 and num_2 > num_1:\n",
        "  print(f'o MAIOR número é : {num_3}')\n",
        "if num_1 < num_2 and num_2 < num_3:\n",
        "  print(f'o MENOR número é : {num_1}')\n",
        "if num_2 < num_1 and num_1 < num_3:\n",
        "  print(f'o MENOR número é : {num_2}')\n",
        "if num_3 < num_2 and num_2 < num_1:\n",
        "  print(f'o MENOR número é ; {num_3}')\n"
      ],
      "execution_count": null,
      "outputs": []
    },
    {
      "cell_type": "markdown",
      "metadata": {
        "id": "XfwCmjdvHS1f"
      },
      "source": [
        "8- Faça um programa que pergunte o preço de três produtos e informe qual produto você deve comprar, sabendo que a decisão é sempre pelo mais barato."
      ]
    },
    {
      "cell_type": "code",
      "metadata": {
        "colab": {
          "base_uri": "https://localhost:8080/"
        },
        "id": "_lWbflEQHXxV",
        "outputId": "f8e28f78-3952-400f-d969-939da2664bd4"
      },
      "source": [
        "p1 = float(input('produto 1'))\n",
        "p2 = float(input('produto 2'))\n",
        "p3 = float(input('produto 3'))\n",
        "if p1 < p2 and p2 < p3:\n",
        "  print(f'o MENOR preço é o  produto 1  no valor de R$ :{p1}')\n",
        "if p2 < p1 and p1 < p3:\n",
        "  print(f'o MENOR preço é o  produto 2  no valor de R$ :{p2}')\n",
        "if p3 < p2 and p2 < p1:\n",
        "  print(f'o MENOR preço é o  produto 3  no valor de R$ : {p3}')\n",
        "elif p1 == p2 and p1 and p2 < p3:\n",
        "  print (f'O produto 1 no valor de R$ {p1} e 2 são os mais baratos!!')\n",
        "elif p1 == p3 and p2 and p3 < p2:\n",
        "  print (f'O produto 2 no valor de R$ {p2} e 3 são os mais baratos!!')\n",
        "elif p1 == p3 and p2 and p3 < p1:\n",
        "  print (f'O produto 3 no valor de R$ {p3} e 2 são os mais baratos!!')\n",
        "else:\n",
        "  print('compra qualquer um! É tudo o mesmo preço')"
      ],
      "execution_count": null,
      "outputs": [
        {
          "output_type": "stream",
          "name": "stdout",
          "text": [
            "produto 12\n",
            "produto 25\n",
            "produto 38\n",
            "o MENOR preço é o  produto 1  no valor de R$ :2.0\n",
            "compra qualquer um! É tudo o mesmo preço\n"
          ]
        }
      ]
    },
    {
      "cell_type": "markdown",
      "metadata": {
        "id": "ZW2e0X4MPxCY"
      },
      "source": [
        "9- **Faça um Programa que leia três números e mostre-os em ordem decrescente.**"
      ]
    },
    {
      "cell_type": "code",
      "metadata": {
        "id": "nlTxzrcrkXVV"
      },
      "source": [
        "primeiro = input('digite um número')\n",
        "segundo = input('digite um número')\n",
        "terceiro = input('digite um número')\n",
        "\n",
        "if (terceiro > segundo):\n",
        "    aux = terceiro\n",
        "    terceiro = segundo\n",
        "    segundo = aux\n",
        "\n",
        "if (segundo > primeiro):\n",
        "    aux = segundo\n",
        "    segundo = primeiro\n",
        "    primeiro = aux\n",
        "\n",
        "if (terceiro > segundo):\n",
        "    aux = terceiro\n",
        "    terceiro = segundo\n",
        "    segundo = aux\n",
        "\n",
        "print(primeiro,'-',segundo,'-',terceiro)"
      ],
      "execution_count": null,
      "outputs": []
    },
    {
      "cell_type": "markdown",
      "metadata": {
        "id": "K6HHdk7jzetR"
      },
      "source": [
        "10-Faça um Programa que pergunte em que turno você estuda. Peça para digitar M-matutino ou V-Vespertino ou N- Noturno. Imprima a mensagem \"Bom Dia!\", \"Boa Tarde!\" ou \"Boa Noite!\" ou \"Valor Inválido!\", conforme o caso."
      ]
    },
    {
      "cell_type": "code",
      "metadata": {
        "colab": {
          "base_uri": "https://localhost:8080/"
        },
        "id": "Ozx0S9rAm3ml",
        "outputId": "1e336b61-0350-4016-addb-bf417ceb6403"
      },
      "source": [
        "t1 = input('digite seu turno de estudos')\n",
        "\n",
        "if t1 == 'M':\n",
        "  print('Olá, BOM DIA!')\n",
        "\n",
        "elif t1== 'V':\n",
        "  print('Olá, BOA TARDE!')\n",
        "\n",
        "elif t1== 'N':\n",
        "  print('Olá, BOA NOITE!')\n",
        "\n",
        "else:\n",
        "  print('valor inválido')"
      ],
      "execution_count": null,
      "outputs": [
        {
          "output_type": "stream",
          "name": "stdout",
          "text": [
            "digite seu turno de estudosN\n",
            "Olá, BOA NOITE!\n"
          ]
        }
      ]
    },
    {
      "cell_type": "markdown",
      "metadata": {
        "id": "GUONeARRnn-9"
      },
      "source": [
        "11- **As Organizações Tabajara resolveram dar um aumento de salário aos seus colaboradores e lhe contraram para desenvolver o programa que calculará os reajustes.**\n",
        "\n",
        "Faça um programa que recebe o salário de um colaborador e o reajuste segundo o seguinte critério, baseado no salário atual:\n",
        "\n",
        "salários até R$ 280,00 (incluindo) : aumento de 20%\n",
        "\n",
        "salários entre R$ 280,00 e R$ 700,00 : aumento de 15%\n",
        "\n",
        "salários entre R$ 700,00 e R$ 1500,00 : aumento de 10%\n",
        "\n",
        "o percentual de aumento aplicado;\n",
        "\n",
        "o valor do aumento;\n",
        "\n",
        "o novo salário, após o aumento.\n",
        "\n"
      ]
    },
    {
      "cell_type": "code",
      "metadata": {
        "colab": {
          "base_uri": "https://localhost:8080/"
        },
        "id": "LmeL-Oiin7Ox",
        "outputId": "6daf262a-4e95-4861-db69-cc544a6d841f"
      },
      "source": [
        "salario = float(input('O meu salário é R$ '))\n",
        "desc_1 = salario / 100 * 20 + salario\n",
        "desc_2 = salario / 100 * 15 + salario\n",
        "desc_3 = salario / 100 * 10 + salario\n",
        "\n",
        "if salario <= 280.00:\n",
        "  print(f'o salário atualizado é de: R$ {desc_1}')\n",
        "\n",
        "elif salario >= 280.00 <= 700.00:\n",
        "  print(f'o salário atualizado é de: R$ {desc_2}')\n",
        "\n",
        "elif salario >= 700.00 <= 1500.00:\n",
        "  print(f'o salário atualizado é de: R$ {desc_3}')\n"
      ],
      "execution_count": null,
      "outputs": [
        {
          "output_type": "stream",
          "text": [
            "O meu salário é R$ 780\n",
            "o salário atualizado é de: R$ 897.0\n"
          ],
          "name": "stdout"
        }
      ]
    },
    {
      "cell_type": "markdown",
      "metadata": {
        "id": "_cOlu5AHxmmK"
      },
      "source": [
        "12- Faça um programa para o cálculo de uma folha de pagamento, sabendo que os descontos são do Imposto de Renda, que depende do salário bruto (conforme tabela abaixo) e 3% para o Sindicato e que o FGTS corresponde a 11% do Salário Bruto, mas não é descontado (é a empresa que deposita).\n",
        "\n",
        "O Salário Líquido corresponde ao Salário Bruto menos os descontos. O programa deverá pedir ao usuário o valor da sua hora e a quantidade de horas trabalhadas no mês.\n",
        "\n",
        "\n",
        "Desconto do IR:\n",
        "\n",
        "Salário Bruto até 900 (inclusive) - isento\n",
        "\n",
        "Salário Bruto até 1500 (inclusive) - desconto de 5%\n",
        "\n",
        "Salário Bruto até 2500 (inclusive) - desconto de 10%\n",
        "\n",
        "Salário Bruto acima de 2500 - desconto de 20% Imprima na tela as \n",
        "informações, dispostas conforme o exemplo abaixo. No exemplo o valor \n",
        "da hora é 5 e a quantidade de hora é 220.\n",
        "\n",
        "        Salário Bruto: (5 * 220)        : R$ 1100,00\n",
        "        (-) IR (5%)                     : R$   55,00  \n",
        "        (-) INSS ( 10%)                 : R$  110,00\n",
        "        FGTS (11%)                      : R$  121,00\n",
        "        Total de descontos              : R$  165,00\n",
        "        Salário Liquido                 : R$  935,00"
      ]
    },
    {
      "cell_type": "code",
      "metadata": {
        "id": "8may1YsVGbNO"
      },
      "source": [
        "horas= float(input('Quantas horas por mês você trabalha?'))\n",
        "preço = float(input('Qual o valor da sua hora? '))\n",
        "\n",
        "sl = horas * preço\n",
        "bruto = horas * preço\n",
        "\n",
        "desc_5  = bruto * 5/100\n",
        "desc_10 = bruto * 10/100\n",
        "desc_20 = bruto * 20/100\n",
        "sind = bruto * 3/100\n",
        "inss = bruto * 10/100\n",
        "fgts = bruto * 11/100\n",
        "desc = bruto - sl + sind\n",
        "ir = bruto - sl\n",
        "\n",
        "if sl <= 900:\n",
        "  sl = bruto\n",
        "\n",
        "elif sl > 900 and bruto <= 1500:\n",
        "  sl= sl - desc_5\n",
        "\n",
        "elif sl > 1500 and bruto <= 2500:\n",
        "  sl= sl - desc_10\n",
        "\n",
        "else:\n",
        "  sl > 2500\n",
        "  sl = bruto - desc_20\n",
        "\n",
        "  print(f'salário bruto:       R$ {bruto:,.2f}')\n",
        "  print(f'(-) IR:              R$ {sl - bruto:,.2f}')\n",
        "  print(f'Desconto Sindicato:  R$ {bruto - sind - bruto:,.2f}')\n",
        "  print(f'(-) FGTS (11%):      R$ {bruto - fgts - bruto:,.2f}')\n",
        "  print(f'Total de descontos : R$ {bruto - sl + sind :,.2f}')\n",
        "  print(f'Salário Liquido :    R$ {bruto - sind + sl - bruto:,.2f}')"
      ],
      "execution_count": null,
      "outputs": []
    },
    {
      "cell_type": "markdown",
      "source": [
        "**13-Faça um Programa que leia um número e exiba o dia correspondente da semana. (1-Domingo, 2- Segunda, etc.), se digitar outro valor deve aparecer valor inválido.**"
      ],
      "metadata": {
        "id": "H21PzBp_nlRI"
      }
    },
    {
      "cell_type": "code",
      "source": [
        "semana= input('dia')\n",
        "\n",
        "domingo= ['1-domingo']\n",
        "segunda= ['2-segunda']\n",
        "terça=   ['3-terça']\n",
        "quarta=  ['4-quarta']\n",
        "quinta=  ['5-quinta']\n",
        "sexta=   ['6-sexta']\n",
        "sabado=  ['7-sábado']\n",
        "\n",
        "if semana == '1':\n",
        "  semana = domingo\n",
        "\n",
        "if semana == '2':\n",
        "  semana = segunda\n",
        "\n",
        "if semana == '3':\n",
        "  semana = terça\n",
        "\n",
        "if semana == '4':\n",
        "  semana = quarta\n",
        "\n",
        "if semana == '5':\n",
        "  semana = quinta\n",
        "\n",
        "if semana == '6':\n",
        "  semana = sexta\n",
        "\n",
        "if semana == '7':\n",
        "  semana == sábado\n",
        "\n",
        "else:\n",
        "  print('valor inválido')\n",
        "\n",
        "\n",
        "print(f'{semana}')\n",
        "\n"
      ],
      "metadata": {
        "id": "S5da7e3Zottz"
      },
      "execution_count": null,
      "outputs": []
    },
    {
      "cell_type": "markdown",
      "source": [
        "**14-Faça um programa que lê as duas notas parciais obtidas por um aluno numa disciplina ao longo de um semestre, e calcule a sua média. A atribuição de conceitos obedece à tabela abaixo:**\n",
        "\n",
        "\n",
        "\n",
        "```\n",
        "Média de Aproveitamento  Conceito\n",
        "  Entre 9.0 e 10.0        A\n",
        "  Entre 7.5 e 9.0         B\n",
        "  Entre 6.0 e 7.5         C\n",
        "  Entre 4.0 e 6.0         D\n",
        "  Entre 4.0 e zero        E\n",
        "```\n",
        "\n",
        "O algoritmo deve mostrar na tela as notas, a média, o conceito correspondente e a mensagem “APROVADO” se o conceito for A, B ou C ou “REPROVADO” se o conceito for D ou E.\n",
        "\n"
      ],
      "metadata": {
        "id": "a9m_eUv-ouiN"
      }
    },
    {
      "cell_type": "code",
      "source": [
        "nota1=float(input(\"Digite nota 1: \"))\n",
        "nota2=float(input(\"Digite nota 2: \"))\n",
        "media=(nota1+nota2)/2\n",
        "if media >=9:\n",
        "   conceito = \"A\"\n",
        "elif media >= 7.5:\n",
        "   conceito = \"B\"\n",
        "elif media >= 6:\n",
        "    conceito = \"C\"\n",
        "elif media >= 4:\n",
        "    conceito = \"D\"\n",
        "elif media >= 0:\n",
        "    conceito = \"E\"\n",
        "if conceito == \"A\" or \"B\" or \"C\":\n",
        "    resultado = \"Aprovado!\"\n",
        "elif conceito == \"D\" or \"E\":\n",
        "    resultado = \"Reprovado\"\n",
        "print(\"Nota 1: %.2f\\nNota 2:%.2f\"%(nota1,nota2))\n",
        "print(\"Média: %.2f\"%media)\n",
        "print(\"Conceito: %s\"%conceito)\n",
        "print(\"Resultado: %s\"%resultado)"
      ],
      "metadata": {
        "id": "O9Apx7B-rshV"
      },
      "execution_count": null,
      "outputs": []
    },
    {
      "cell_type": "markdown",
      "source": [
        "**15-Faça um Programa que peça os 3 lados de um triângulo. O programa deverá informar se os valores podem ser um triângulo. Indique, caso os lados formem um triângulo, se o mesmo é: equilátero, isósceles ou escaleno.**\n",
        "\n",
        "\n",
        "\n",
        "```\n",
        "Dicas:\n",
        "Três lados formam um triângulo quando a soma de quaisquer dois lados for maior que o terceiro;\n",
        "Triângulo Equilátero: três lados iguais;\n",
        "Triângulo Isósceles: quaisquer dois lados iguais;\n",
        "Triângulo Escaleno: três lados diferentes;\n",
        "```\n",
        "\n"
      ],
      "metadata": {
        "id": "-6rlOvnfpOPR"
      }
    },
    {
      "cell_type": "code",
      "source": [
        "lado_A= float(input(\"Digite o lado A do triangulo \"))\n",
        "lado_B= float(input(\"Digite o lado B do triangulo \"))\n",
        "lado_C= float(input(\"Digite o lado B do triangulo \"))\n",
        "\n",
        "if lado_A == lado_B == lado_C:#triângulo com todos os  lados iguais \n",
        "  print( 'triangulo equilátero')\n",
        "\n",
        "elif lado_A == lado_B != lado_C:#triângulo  com apenas dois lados iguais 5\n",
        "  print('triangulo isosceles')\n",
        "\n",
        "elif lado_A != lado_B != lado_C:#triângulo com todos os lados diferentes\n",
        "  print('triangulo Escaleno')\n",
        "\n",
        "else:\n",
        "  print(\"não é um triângulo \")"
      ],
      "metadata": {
        "id": "FQq2-5nVrknk"
      },
      "execution_count": null,
      "outputs": []
    },
    {
      "cell_type": "markdown",
      "source": [
        "**16-Faça um programa que calcule as raízes de uma equação do segundo grau, na forma ax2 + bx + c. O programa deverá pedir os valores de a, b e c e fazer as consistências, informando ao usuário nas seguintes situações:**\n",
        "\n",
        "\n",
        "```\n",
        "a) Se o usuário informar o valor de A igual a zero, a equação não é do segundo grau e o programa não deve fazer pedir os demais valores, sendo encerrado;\n",
        "b) Se o delta calculado for negativo, a equação não possui raizes reais. Informe ao usuário e encerre o programa;\n",
        "c) Se o delta calculado for igual a zero a equação possui apenas uma raiz real; informe-a ao usuário;\n",
        "d) Se o delta for positivo, a equação possui duas raiz reais; informe-as ao usuário;\n",
        "```"
      ],
      "metadata": {
        "id": "_0xQaPm7pnGm"
      }
    },
    {
      "cell_type": "code",
      "source": [
        "import math\n",
        "\n",
        "num_a= int(input('Digite um número A : '))#entrada de dados\n",
        "while num_a == 0: #laço de repetição   \n",
        "  print('não é uma equação de 2, programa encerrado') \n",
        "  break;\n",
        "\n",
        "else:\n",
        "  num_b= int(input('b   : '))\n",
        "  num_c= int(input('c   : '))\n",
        "  delta= num_b * num_b - (4*num_a*num_c)\n",
        "\n",
        "if delta <0:\n",
        "  print(f' delta  { delta }\\n, ñ é raiz real para delta; programa encerrado!')\n",
        "\n",
        "if delta == 0:\n",
        "  print(f' delta   {delta}\\n , a equação possui apenas 1 raiz real')\n",
        "\n",
        "elif delta == 0:\n",
        "    raiz = -num_b /(2*num_a)\n",
        "    print('Delta= 0, raiz =',raiz)\n",
        "\n",
        "else:\n",
        "    raiz1 = (-num_b + math.sqrt(delta) ) / (2*num_a)\n",
        "    raiz2 = (-num_b - math.sqrt(delta) ) / (2*num_a)\n",
        "    print('Raizes: ',raiz1,' e ',raiz2)"
      ],
      "metadata": {
        "id": "YZ8h-S4Frpgk"
      },
      "execution_count": null,
      "outputs": []
    },
    {
      "cell_type": "markdown",
      "source": [
        "17-**Faça um Programa que peça um número correspondente a um determinado ano e em seguida informe se este ano é ou não bissexto.**"
      ],
      "metadata": {
        "id": "z_4S4y9yr6E0"
      }
    },
    {
      "cell_type": "code",
      "source": [
        ""
      ],
      "metadata": {
        "id": "2E2wzJLXscvN"
      },
      "execution_count": null,
      "outputs": []
    },
    {
      "cell_type": "markdown",
      "source": [
        "18-**Faça um Programa que peça uma data no formato dd/mm/aaaa e determine se a mesma é uma data válida.**"
      ],
      "metadata": {
        "id": "3tsLCu_vsfS7"
      }
    },
    {
      "cell_type": "code",
      "source": [
        ""
      ],
      "metadata": {
        "id": "hXFo2hd6snz9"
      },
      "execution_count": null,
      "outputs": []
    },
    {
      "cell_type": "markdown",
      "source": [
        "**19-Faça um Programa que leia um número inteiro menor que 1000 e imprima a quantidade de centenas, dezenas e unidades do mesmo.**\n",
        "\n",
        "\n",
        "\n",
        "```\n",
        "Observando os termos no plural a colocação do \"e\", da vírgula entre outros. Exemplo:\n",
        "326 = 3 centenas, 2 dezenas e 6 unidades\n",
        "12 = 1 dezena e 2 unidades Testar com: 326, 300, 100, 320, 310,305, 301, 101, 311, 111, 25, 20, 10, 21, 11, 1, 7 e 16\n",
        "```\n",
        "\n"
      ],
      "metadata": {
        "id": "k5xkmCr9sqPE"
      }
    },
    {
      "cell_type": "code",
      "source": [
        ""
      ],
      "metadata": {
        "id": "E6wCg-gZtKw1"
      },
      "execution_count": null,
      "outputs": []
    },
    {
      "cell_type": "markdown",
      "source": [
        "**20-Faça um Programa para leitura de três notas parciais de um aluno. O programa deve calcular a média alcançada por aluno e presentar:**\n",
        "\n",
        "\n",
        "\n",
        "```\n",
        "a) A mensagem \"Aprovado\", se a média for maior ou igual a 7, com a respectiva média alcançada;\n",
        "b) A mensagem \"Reprovado\", se a média for menor do que 7, com a respectiva média alcançada;\n",
        "c) A mensagem \"Aprovado com Distinção\", se a média for igual a 10.\n",
        "```\n",
        "\n"
      ],
      "metadata": {
        "id": "gH6DlAxbs36L"
      }
    },
    {
      "cell_type": "code",
      "source": [
        ""
      ],
      "metadata": {
        "id": "xDKneQD5tLcs"
      },
      "execution_count": null,
      "outputs": []
    },
    {
      "cell_type": "markdown",
      "source": [
        "21-**Faça um Programa para um caixa eletrônico. O programa deverá perguntar ao usuário a valor do saque e depois informar quantas notas de cada valor serão fornecidas. As notas disponíveis serão as de 1, 5, 10, 50 e 100 reais. O valor mínimo é de 10 reais e o máximo de 600 reais. O programa não deve se preocupar com a quantidade de notas existentes na máquina.**\n",
        "\n",
        "```\n",
        "Exemplo 1: Para sacar a quantia de 256 reais, o programa fornece duas notas de 100, uma nota de 50, uma nota de 5 e uma nota de 1;\n",
        "Exemplo 2: Para sacar a quantia de 399 reais, o programa fornece três notas de 100, uma nota de 50, quatro notas de 10, uma nota de 5 e quatro notas de 1.\n",
        "```\n",
        "\n"
      ],
      "metadata": {
        "id": "kOIg7Un2tMyj"
      }
    },
    {
      "cell_type": "markdown",
      "source": [
        "**22-Faça um Programa que peça um número inteiro e determine se ele é par ou impar. Dica: utilize o operador módulo (resto da divisão).**"
      ],
      "metadata": {
        "id": "CP-3trBwthi6"
      }
    },
    {
      "cell_type": "code",
      "source": [
        ""
      ],
      "metadata": {
        "id": "IXH9nY1mtmSf"
      },
      "execution_count": null,
      "outputs": []
    },
    {
      "cell_type": "markdown",
      "source": [
        "**23-Faça um Programa que peça um número e informe se o número é inteiro ou decimal. Dica: utilize uma função de arredondamento.**"
      ],
      "metadata": {
        "id": "wqKPw6xctefF"
      }
    },
    {
      "cell_type": "code",
      "source": [
        ""
      ],
      "metadata": {
        "id": "cohLnGYWtvNX"
      },
      "execution_count": null,
      "outputs": []
    },
    {
      "cell_type": "markdown",
      "source": [
        "**24-Faça um Programa que leia 2 números e em seguida pergunte ao usuário qual operação ele deseja realizar. O resultado da operação deve ser acompanhado de uma frase que diga se o número é:**\n",
        "\n",
        "\n",
        "\n",
        "```\n",
        "a) par ou ímpar;\n",
        "b) positivo ou negativo;\n",
        "c) inteiro ou decimal.\n",
        "```\n",
        "\n"
      ],
      "metadata": {
        "id": "y2k43BbFtImE"
      }
    },
    {
      "cell_type": "markdown",
      "source": [
        "**25-Faça um programa que faça 5 perguntas para uma pessoa sobre um crime. As perguntas são:**\n",
        "\n",
        "```\n",
        "1º \"Telefonou para a vítima?\"\n",
        "2º \"Esteve no local do crime?\"\n",
        "3º \"Mora perto da vítima?\"\n",
        "4º \"Devia para a vítima?\"\n",
        "5º \"Já trabalhou com a vítima?\" \n",
        "6º O programa deve no final emitir uma classificação sobre a participação da pessoa no crime. \n",
        "\n",
        "Atenção: \n",
        "Se a pessoa responder positivamente a 2 questões\n",
        "ela deve ser classificada como \"Suspeita\",\n",
        "entre 3 e 4 como \"Cúmplice\" \n",
        "e 5 como \"Assassino\". \n",
        "Caso contrário, ele será classificado como \"Inocente\".\n",
        "```\n",
        "\n"
      ],
      "metadata": {
        "id": "TQ-DHLkpuDpv"
      }
    },
    {
      "cell_type": "markdown",
      "source": [
        "\n",
        "**26-Um posto está vendendo combustíveis com a seguinte tabela de descontos:**\n",
        "\n",
        "\n",
        "\n",
        "```\n",
        "Álcool:\n",
        "a) até 20 litros, desconto de 3% por litro\n",
        "b) acima de 20 litros, desconto de 5% por litro\n",
        "\n",
        "Gasolina:\n",
        "c) até 20 litros, desconto de 4% por litro\n",
        "d)acima de 20 litros, desconto de 6% por litro Escreva um algoritmo que leia:\n",
        "\n",
        "número de litros vendidos, o tipo de combustível (codificado da seguinte forma:\n",
        "\n",
        "A-álcool, \n",
        "G-gasolina), \n",
        "\n",
        "calcule e imprima o valor a ser pago pelo cliente sabendo-se que o preço do litro da gasolina é R$ 2,50 o preço do litro do álcool é R$ 1,90.\n",
        "\n",
        "```\n",
        "\n"
      ],
      "metadata": {
        "id": "u8zAJInnuN_L"
      }
    },
    {
      "cell_type": "code",
      "source": [
        ""
      ],
      "metadata": {
        "id": "nJtKh7kRwA4o"
      },
      "execution_count": null,
      "outputs": []
    },
    {
      "cell_type": "markdown",
      "source": [
        "**27-Uma fruteira está vendendo frutas com a seguinte tabela de preços**\n",
        "\n",
        "\n",
        "\n",
        "```\n",
        "                   Até 5 Kg           Acima de 5 Kg\n",
        "Morango         R$ 2,50 por Kg          R$ 2,20 por Kg\n",
        "Maçã            R$ 1,80 por Kg          R$ 1,50 por Kg\n",
        "```\n",
        "Se o cliente comprar mais de 8 Kg em frutas ou o valor total da compra ultrapassar R$ 25,00, receberá ainda um desconto de 10% sobre este total. Escreva um algoritmo para ler a quantidade (em Kg) de morangos e a quantidade (em Kg) de maças adquiridas e escreva o valor a ser pago pelo cliente.\n",
        "\n"
      ],
      "metadata": {
        "id": "EKDxRvXCwfh6"
      }
    },
    {
      "cell_type": "code",
      "source": [
        ""
      ],
      "metadata": {
        "id": "MsUhC4yLxAJ_"
      },
      "execution_count": null,
      "outputs": []
    },
    {
      "cell_type": "markdown",
      "source": [
        "**28-O Hipermercado Tabajara está com uma promoção de carnes que é imperdível. Confira:**\n",
        "\n",
        "```\n",
        "                      Até 5 Kg           Acima de 5 Kg\n",
        "File Duplo      R$ 4,90 por Kg          R$ 5,80 por Kg\n",
        "Alcatra         R$ 5,90 por Kg          R$ 6,80 por Kg\n",
        "Picanha         R$ 6,90 por Kg          R$ 7,80 por Kg\n",
        "```\n",
        "Para atender a todos os clientes, cada cliente poderá levar apenas um dos tipos de carne da promoção, porém não há limites para a quantidade de carne por cliente. Se compra for feita no cartão Tabajara o cliente receberá ainda um desconto de 5% sobre o total da compra. Escreva um programa que peça o tipo e a quantidade de carne comprada pelo usuário e gere um cupom fiscal, contendo as informações da compra: tipo e quantidade de carne, preço total, tipo de pagamento, valor do desconto e valor a pagar.\n",
        "\n",
        "\n"
      ],
      "metadata": {
        "id": "IMwoI3GHwmbe"
      }
    },
    {
      "cell_type": "code",
      "source": [
        ""
      ],
      "metadata": {
        "id": "18A1wrtExC5h"
      },
      "execution_count": null,
      "outputs": []
    }
  ]
}